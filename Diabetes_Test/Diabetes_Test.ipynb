{
 "cells": [
  {
   "cell_type": "code",
   "execution_count": 10,
   "id": "b620bf83",
   "metadata": {},
   "outputs": [],
   "source": [
    "import pandas as pd\n",
    "from sklearn import tree\n",
    "from sklearn.tree import DecisionTreeClassifier\n",
    "from sklearn.model_selection import train_test_split\n",
    "from sklearn.metrics import accuracy_score\n",
    "import joblib\n",
    "\n",
    "#..................used this code to train the model................\n",
    "# diabetes_data = pd.read_csv('diabetes.csv')\n",
    "# X = diabetes_data.drop(columns='Outcome')\n",
    "# y = diabetes_data['Outcome']\n",
    "# X_train, X_test, y_train, y_test = train_test_split(X.values,y,test_size=0.2)\n",
    "# model = DecisionTreeClassifier()\n",
    "# model.fit(X_train,y_train)\n",
    "\n",
    "# joblib.dump(model,'diabetes-test.joblib')\n",
    "\n",
    "\n",
    "model = joblib.load('diabetes-test.joblib')\n",
    "# predictions = model.predict([[6, 148, 72, 35, 0, 33.6, 0.627, 50]])\n",
    "# predictions\n"
   ]
  },
  {
   "cell_type": "code",
   "execution_count": 11,
   "id": "ebb0fca0",
   "metadata": {},
   "outputs": [
    {
     "name": "stdout",
     "output_type": "stream",
     "text": [
      "accuracy : 0.7207792207792207\n"
     ]
    }
   ],
   "source": [
    "predictions = model.predict(X_test)\n",
    "accuracy_score = accuracy_score(y_test,predictions)\n",
    "print(f'accuracy : {accuracy_score}')"
   ]
  },
  {
   "cell_type": "code",
   "execution_count": 12,
   "id": "0df34841",
   "metadata": {},
   "outputs": [],
   "source": [
    "tree.export_graphviz(model,\n",
    "                     out_file='diabetes-test.dot',\n",
    "                     feature_names=['Pregnancies','Glucose','BloodPressure','SkinThickness','Insulin','BMI','DiabetesPedigreeFunction','Age'],\n",
    "                     class_names=['0','1'],\n",
    "                     label='all',\n",
    "                     rounded=True,\n",
    "                     filled=True)"
   ]
  },
  {
   "cell_type": "code",
   "execution_count": 20,
   "id": "b88ca734",
   "metadata": {},
   "outputs": [
    {
     "name": "stdout",
     "output_type": "stream",
     "text": [
      "Enter Pregnancies: 7\n",
      "Enter Glucose: 114\n",
      "Enter BloodPressure: 66\n",
      "Enter SkinThickness: 00\n",
      "Enter Insulin: 0\n",
      "Enter BMI: 32.8\n",
      "Enter DiabetesPedigreeFunction: 0.258\n",
      "Enter Age: 42\n",
      "........You have diabetes.......\n"
     ]
    }
   ],
   "source": [
    "\n",
    "user_data = []\n",
    "feature_names = ['Pregnancies', 'Glucose', 'BloodPressure', 'SkinThickness', 'Insulin', 'BMI', 'DiabetesPedigreeFunction', 'Age']\n",
    "\n",
    "\n",
    "for feature in feature_names:\n",
    "    user_input = input(f\"Enter {feature}: \")\n",
    "    user_data.append(user_input)\n",
    "\n",
    "\n",
    "predictions = model.predict([user_data])\n",
    "\n",
    "if predictions[0] == 1:\n",
    "    print(\"........You have diabetes.......\")\n",
    "else:\n",
    "    print(\"........you haven't diabetes......\")"
   ]
  }
 ],
 "metadata": {
  "kernelspec": {
   "display_name": "Python 3 (ipykernel)",
   "language": "python",
   "name": "python3"
  },
  "language_info": {
   "codemirror_mode": {
    "name": "ipython",
    "version": 3
   },
   "file_extension": ".py",
   "mimetype": "text/x-python",
   "name": "python",
   "nbconvert_exporter": "python",
   "pygments_lexer": "ipython3",
   "version": "3.11.5"
  }
 },
 "nbformat": 4,
 "nbformat_minor": 5
}
